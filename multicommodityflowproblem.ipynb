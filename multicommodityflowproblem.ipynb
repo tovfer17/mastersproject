{
  "nbformat": 4,
  "nbformat_minor": 0,
  "metadata": {
    "colab": {
      "name": "multicommodityflowproblem.ipynb",
      "provenance": [],
      "mount_file_id": "1kaCHFJO12GnS2fNdpM0qHv2LFYj97Wef",
      "authorship_tag": "ABX9TyNr5JCfgV7Iv7277moOxQWI",
      "include_colab_link": true
    },
    "kernelspec": {
      "name": "python3",
      "display_name": "Python 3"
    },
    "language_info": {
      "name": "python"
    }
  },
  "cells": [
    {
      "cell_type": "markdown",
      "metadata": {
        "id": "view-in-github",
        "colab_type": "text"
      },
      "source": [
        "<a href=\"https://colab.research.google.com/github/tovfer17/mastersproject/blob/master/multicommodityflowproblem.ipynb\" target=\"_parent\"><img src=\"https://colab.research.google.com/assets/colab-badge.svg\" alt=\"Open In Colab\"/></a>"
      ]
    },
    {
      "cell_type": "markdown",
      "metadata": {
        "id": "bUMV0_Q14wEN"
      },
      "source": [
        "# **Code for Multicommodity Problem**"
      ]
    },
    {
      "cell_type": "code",
      "metadata": {
        "colab": {
          "base_uri": "https://localhost:8080/"
        },
        "id": "Lp3DIW_p43Q6",
        "outputId": "10b17e04-ba42-4bb6-83fe-b76c6b77da50"
      },
      "source": [
        "!pip install networkx"
      ],
      "execution_count": 2,
      "outputs": [
        {
          "output_type": "stream",
          "text": [
            "Requirement already satisfied: networkx in /usr/local/lib/python3.7/dist-packages (2.5.1)\n",
            "Requirement already satisfied: decorator<5,>=4.3 in /usr/local/lib/python3.7/dist-packages (from networkx) (4.4.2)\n"
          ],
          "name": "stdout"
        }
      ]
    },
    {
      "cell_type": "code",
      "metadata": {
        "colab": {
          "base_uri": "https://localhost:8080/"
        },
        "id": "AQ1NGrXL4-5v",
        "outputId": "177e09f3-9942-475c-fd54-0436622164b1"
      },
      "source": [
        "!pip install xlrd\n"
      ],
      "execution_count": 3,
      "outputs": [
        {
          "output_type": "stream",
          "text": [
            "Requirement already satisfied: xlrd in /usr/local/lib/python3.7/dist-packages (1.1.0)\n"
          ],
          "name": "stdout"
        }
      ]
    },
    {
      "cell_type": "code",
      "metadata": {
        "colab": {
          "base_uri": "https://localhost:8080/"
        },
        "id": "Fq7BdG6ozAtY",
        "outputId": "e7876557-ab46-4936-9ee7-c155df84e2cb"
      },
      "source": [
        "!pip install -i https://pypi.gurobi.com gurobipy"
      ],
      "execution_count": 1,
      "outputs": [
        {
          "output_type": "stream",
          "text": [
            "Looking in indexes: https://pypi.gurobi.com\n",
            "Collecting gurobipy\n",
            "\u001b[?25l  Downloading https://pypi.gurobi.com/gurobipy/gurobipy-9.1.1-cp37-cp37m-manylinux1_x86_64.whl (11.1MB)\n",
            "\u001b[K     |████████████████████████████████| 11.1MB 16.8MB/s \n",
            "\u001b[?25hInstalling collected packages: gurobipy\n",
            "Successfully installed gurobipy-9.1.1\n"
          ],
          "name": "stdout"
        }
      ]
    },
    {
      "cell_type": "markdown",
      "metadata": {
        "id": "ktDOvAyosPCG"
      },
      "source": [
        "Imports and Initializations"
      ]
    },
    {
      "cell_type": "code",
      "metadata": {
        "id": "XCO1txd-5D-7"
      },
      "source": [
        "\n",
        "import networkx as netx  # nice (di-)graph Python package\n",
        "import matplotlib.pyplot as plt\n",
        "import numpy as np\n",
        "import math\n",
        "import gurobipy as gp\n",
        "from gurobipy import GRB\n",
        "import xlrd\n",
        "\n",
        "vertices = []\n",
        "vertices_no = 0\n",
        "weight = []\n",
        "graph = []\n",
        "leavingnode=[]\n",
        "comingnode=[]\n",
        "comm=[]\n",
        "tran=[]\n",
        "allCost={}\n",
        "demand ={}\n",
        "start=[]\n",
        "cnode=[]\n",
        "nodes=[]\n",
        "G = netx.DiGraph()\n",
        "\n",
        "\n",
        "loc=(\"/networkflow2c.xls\")\n",
        "\n",
        "wb = xlrd.open_workbook(loc)\n",
        "vertex=wb.sheet_by_index(0)\n",
        "capacities=wb.sheet_by_index(1)\n",
        "commodities=wb.sheet_by_index(2)\n",
        "cost=wb.sheet_by_index(3)\n",
        "inflow=wb.sheet_by_index(4)"
      ],
      "execution_count": 15,
      "outputs": []
    },
    {
      "cell_type": "markdown",
      "metadata": {
        "id": "rB0U9Wb8skBM"
      },
      "source": [
        "################ adding vertex from excel ######################"
      ]
    },
    {
      "cell_type": "code",
      "metadata": {
        "id": "EFX6sYrKrLF9"
      },
      "source": [
        "def add_vertex(v):\n",
        "    global graph\n",
        "    global vertices_no\n",
        "    global vertices\n",
        "    if v in vertices:\n",
        "        print(\"Vertex \", v, \" already exists\")\n",
        "    else:\n",
        "        vertices_no = vertices_no + 1\n",
        "        vertices.append(v)\n",
        "        if vertices_no > 1:\n",
        "            for vertex in graph:\n",
        "                vertex.append(0)\n",
        "        temp = []\n",
        "        for i in range(vertices_no):\n",
        "            temp.append(0)\n",
        "        graph.append(temp)"
      ],
      "execution_count": 16,
      "outputs": []
    },
    {
      "cell_type": "markdown",
      "metadata": {
        "id": "RHDYAN4JsoYT"
      },
      "source": [
        "################ adding edge from excel ######################"
      ]
    },
    {
      "cell_type": "code",
      "metadata": {
        "id": "tRZz16R6rMKT"
      },
      "source": [
        "\n",
        "def add_edge(v1, v2, e):\n",
        "    global graph\n",
        "    global vertices_no\n",
        "    global vertices\n",
        "    # Check if vertex v1 is a valid vertex\n",
        "    if v1 not in vertices:\n",
        "        print(\"Vertex \", v1, \" does not exist.\")\n",
        "    # Check if vertex v1 is a valid vertex\n",
        "    elif v2 not in vertices:\n",
        "        print(\"Vertex \", v2, \" does not exist.\")\n",
        "    # Since this code is not restricted to a directed or\n",
        "    # an undirected graph, an edge between v1 v2 does not\n",
        "    # imply that an edge exists between v2 and v1\n",
        "    else:\n",
        "        index1 = vertices.index(v1)\n",
        "        index2 = vertices.index(v2)\n",
        "        graph[index1][index2] = e"
      ],
      "execution_count": 17,
      "outputs": []
    },
    {
      "cell_type": "markdown",
      "metadata": {
        "id": "wUkW6wNWsyL1"
      },
      "source": [
        "################ print the pair of nodes and edgeweight ######################"
      ]
    },
    {
      "cell_type": "code",
      "metadata": {
        "id": "chL0F464rOZu"
      },
      "source": [
        "\n",
        "def print_graph():\n",
        "    global graph\n",
        "    global vertices_no\n",
        "    for i in range(vertices_no):\n",
        "        for j in range(vertices_no):\n",
        "            if graph[i][j] != 0:\n",
        "                print(vertices[i], \" -> \", vertices[j], \\\n",
        "                      \" edge weight: \", graph[i][j])\n",
        "                #print vertices\n"
      ],
      "execution_count": 18,
      "outputs": []
    },
    {
      "cell_type": "markdown",
      "metadata": {
        "id": "dCE4z9gos2eD"
      },
      "source": [
        "################ draw the newtworkxgraph ######################"
      ]
    },
    {
      "cell_type": "code",
      "metadata": {
        "id": "Y97g57cCrSKT"
      },
      "source": [
        "def draw_graph():\n",
        "    global graph\n",
        "    global vertices_no\n",
        "    global vertices\n",
        "    global weight\n",
        "\n",
        "    for i in range(vertices_no):\n",
        "        for j in range(vertices_no):\n",
        "            if graph[i][j] != 0:\n",
        "                weight=(graph[i][j])\n",
        "                G.add_edge(vertices[i], vertices[j], weight=weight)\n",
        "\n",
        "\n",
        "    epos = [(u, v) for (u, v, d) in G.edges(data=True) if d[\"weight\"] > 0]\n",
        "\n",
        "    pos = netx.spring_layout(G, k=150, seed=200)  # positions for all nodes - seed for reproducibility\n",
        "    # nodes\n",
        "    netx.draw_networkx_nodes(G, pos)\n",
        "    # edges\n",
        "    labels = netx.get_edge_attributes(G, 'weight')\n",
        "    netx.draw_networkx_edge_labels(G, pos, edge_labels=labels)\n",
        "    netx.draw_networkx_edges(G, pos, edgelist=epos, width=10,edge_color=\"orange\")\n",
        "    # labels\n",
        "    netx.draw_networkx_labels(G, pos, font_size=20, font_family=\"sans-serif\")\n",
        "\n",
        "    ax = plt.gca()\n",
        "    ax.margins(0.08)\n",
        "    plt.axis(\"off\")\n",
        "    #plt.tight_layout()\n",
        "\n",
        "    plt.show()\n",
        "    #plt.savefig(\"graphp.png\")"
      ],
      "execution_count": 19,
      "outputs": []
    },
    {
      "cell_type": "markdown",
      "metadata": {
        "id": "nwX8RKQPs_Dv"
      },
      "source": [
        "################ multicommodity######################"
      ]
    },
    {
      "cell_type": "code",
      "metadata": {
        "id": "KCFwnuS5rUu9"
      },
      "source": [
        "\n",
        "def max_flow(test,cost,demands):\n",
        "    global graph\n",
        "    global vertices_no\n",
        "    global vertices\n",
        "    global weight\n",
        "\n",
        "\n",
        "    listkeyPair=[]\n",
        "    for i in range(vertices_no):\n",
        "        for j in range(vertices_no):\n",
        "           if graph[i][j] != 0:\n",
        "                listkeyPair.append((vertices[i], vertices[j]))\n",
        "    print(\"This prints out the nodes in the pair: \",listkeyPair)\n",
        "\n",
        "    listvalueCap=[]\n",
        "    for i in range(vertices_no):\n",
        "        for j in range(vertices_no):\n",
        "            if  graph[i][j] != 0:\n",
        "                listvalueCap.append((graph[i][j]))\n",
        "    print(\"This prints out the capacity of the node pair: \", listvalueCap)\n",
        "\n",
        "    di,capacity = gp.multidict(dict(zip(listkeyPair, listvalueCap)))\n",
        "    print(\"The dictionary after the merge of the pairs of nodes with the capacities:\")\n",
        "    print (capacity)\n",
        "\n",
        "\n",
        "    listnodes=[]\n",
        "    #for a in range(1):\n",
        "    for i in range(vertices_no):\n",
        "                listnodes.append((test,vertices[i]))\n",
        "    print(\"lsit of nodes with each commodity:\", listnodes)\n",
        "\n",
        "    listactualnodes = []\n",
        "    for i in range(vertices_no):\n",
        "            listactualnodes.append((vertices[i]))\n",
        "    print(\"lsit of actual nodes:\", listactualnodes)\n",
        "\n",
        "\n",
        "    inter_nodes_list = listactualnodes\n",
        "\n",
        "    # removes the first two nodes from the vertex list because its the source node\n",
        "    inter_nodes_list.remove(vertices[0])\n",
        "    inter_nodes_list.remove(vertices[1])\n",
        "    # removes the two last nodes from the vertex list because they are the sink nodes\n",
        "    inter_nodes_list.remove(vertices[-1])\n",
        "    inter_nodes_list.remove(vertices[-2])\n",
        "    print(\"inter\", inter_nodes_list)\n",
        "\n",
        "    print(\"demand\",demand)\n",
        "    print(\"cost\",cost)\n",
        "    # Create optimization model\n",
        "    m = gp.Model('netflow')\n",
        "\n",
        "    # Create variables\n",
        "    #flow = m.addVars(test,di, obj=cost, name=\"flow\")\n",
        "    flow = m.addVars(test, di,obj=cost,  name=\"flow\")\n",
        "    #m.setObjective(flow.prod(cost), GRB.MINIMIZE)\n",
        "\n",
        "    m.update()\n",
        "\n",
        "     #Arc-capacity constraints\n",
        "    for x,y in di:\n",
        "      m.addConstr(sum(flow[h, x, y] for h in test) <= capacity[x, y], \"cap[%s, %s]\" % (x, y))\n",
        "\n",
        "     #Flow-conservation constraints\n",
        "    # they require that, for each commodity and node, the sum of the flow into the node\n",
        "    # plus the quantity of external inflow at that node must be equal to the sum of the flow out of the node:\n",
        "    m.addConstrs(\n",
        "        (gp.quicksum(flow[h,x,y] for x, y in di.select('*', y)) + demands[h,y]   ==\n",
        "          gp.quicksum(flow[h, y, k] for y, k in di.select(y, '*'))\n",
        "          for h in test for y in inter_nodes_list), \"node\")\n",
        "\n",
        "    # Compute optimal solutions\n",
        "    m.optimize()\n",
        "    print (m.display())\n",
        "\n",
        "    print(\"if model fesible it will print a 2 .\", m.status)\n",
        "\n",
        "    # Print solution\n",
        "\n",
        "    # print solution: optimal value and optimal point\n",
        "    print('Obj: %g' % m.objVal)\n",
        "     #print(f\"optimal value = {model.objVal:.2f}\")\n",
        "    for v in m.getVars():\n",
        "       print('%s %g' % (v.varName, v.x))\n"
      ],
      "execution_count": 20,
      "outputs": []
    },
    {
      "cell_type": "code",
      "metadata": {
        "colab": {
          "base_uri": "https://localhost:8080/"
        },
        "id": "Lj-nGizhrYqS",
        "outputId": "7b47978c-12e8-4274-bf39-ee123c654e61"
      },
      "source": [
        "#################Driver#########################\n",
        "\n",
        "p = 1\n",
        "while True:\n",
        "    try:\n",
        "        v = vertex.cell_value(p, 0)\n",
        "        add_vertex(v)\n",
        "        nodes.append(v)\n",
        "        print(nodes)\n",
        "        p = p+1\n",
        "    except IndexError:\n",
        "        break\n",
        "\n",
        "i = 1\n",
        "while True:\n",
        "    try:\n",
        "\n",
        "        l = capacities.cell_value(i, 0)\n",
        "        c = capacities.cell_value(i, 1)\n",
        "        cap = capacities.cell_value(i,2)\n",
        "        add_edge(l,c,cap)\n",
        "        i = i+1\n",
        "    except IndexError:\n",
        "        break\n",
        "\n",
        "o=1\n",
        "while True:\n",
        "    try:\n",
        "        c = capacities.cell_value(o, 1)\n",
        "        comingnode.append(c)\n",
        "        l = capacities.cell_value(o, 0)\n",
        "        leavingnode.append(l)\n",
        "        o = o+1\n",
        "    except IndexError:\n",
        "        break\n",
        "\n",
        "eM=1\n",
        "while True:\n",
        "    try:\n",
        "        m = commodities.cell_value(eM, 0)\n",
        "        comm.append(m)\n",
        "        eM = eM+1\n",
        "    except IndexError:\n",
        "        break\n",
        "\n",
        "\n",
        "\n",
        "\n",
        "\n",
        "for commo in comm:\n",
        "    s = 1\n",
        "    j=3\n",
        "    print(\"Commodity:\", commo)\n",
        "    for leave in leavingnode:\n",
        "        print(\"leave\",leave)\n",
        "        cnode = capacities.cell_value(s, 1)\n",
        "        print('coming',cnode)\n",
        "        allCost[commo,leave,cnode]=cost.cell_value(s,j)\n",
        "        print(\"cost:\", allCost[commo,leave,cnode])\n",
        "        s = s+1\n",
        "    print(\"this is j:\",j)\n",
        "\n",
        "\n",
        "\n",
        "z = 1\n",
        "while True:\n",
        "    try:\n",
        "        for commo in comm:\n",
        "           print(\"Commodity:\", commo)\n",
        "           for ver in nodes:\n",
        "                   demand[commo,ver]=inflow.cell_value(z,2)\n",
        "                   print(\"inflow:\", demand[commo,ver])\n",
        "                   z = z+1\n",
        "    except IndexError:\n",
        "        break\n",
        "\n",
        "\n",
        "\n",
        "\n"
      ],
      "execution_count": 21,
      "outputs": [
        {
          "output_type": "stream",
          "text": [
            "['a']\n",
            "['a', 'b']\n",
            "['a', 'b', 'c']\n",
            "['a', 'b', 'c', 'd']\n",
            "['a', 'b', 'c', 'd', 'e']\n",
            "['a', 'b', 'c', 'd', 'e', 'f']\n",
            "['a', 'b', 'c', 'd', 'e', 'f', 'g']\n",
            "['a', 'b', 'c', 'd', 'e', 'f', 'g', 'mobile']\n",
            "['a', 'b', 'c', 'd', 'e', 'f', 'g', 'mobile', 'laptop']\n",
            "Commodity: netflix\n",
            "leave a\n",
            "coming d\n",
            "cost: 1.0\n",
            "leave d\n",
            "coming g\n",
            "cost: 2.0\n",
            "leave g\n",
            "coming mobile\n",
            "cost: 3.0\n",
            "leave c\n",
            "coming e\n",
            "cost: 4.0\n",
            "leave c\n",
            "coming f\n",
            "cost: 5.0\n",
            "leave f\n",
            "coming b\n",
            "cost: 6.0\n",
            "leave b\n",
            "coming g\n",
            "cost: 7.0\n",
            "leave a\n",
            "coming e\n",
            "cost: 8.0\n",
            "leave f\n",
            "coming laptop\n",
            "cost: 4.0\n",
            "this is j: 3\n",
            "Commodity: instagram\n",
            "leave a\n",
            "coming d\n",
            "cost: 1.0\n",
            "leave d\n",
            "coming g\n",
            "cost: 2.0\n",
            "leave g\n",
            "coming mobile\n",
            "cost: 3.0\n",
            "leave c\n",
            "coming e\n",
            "cost: 4.0\n",
            "leave c\n",
            "coming f\n",
            "cost: 5.0\n",
            "leave f\n",
            "coming b\n",
            "cost: 6.0\n",
            "leave b\n",
            "coming g\n",
            "cost: 7.0\n",
            "leave a\n",
            "coming e\n",
            "cost: 8.0\n",
            "leave f\n",
            "coming laptop\n",
            "cost: 4.0\n",
            "this is j: 3\n",
            "Commodity: netflix\n",
            "inflow: 0.6696428571428571\n",
            "inflow: -0.2976190476190476\n",
            "inflow: 1.7857142857142858\n",
            "inflow: -1.7857142857142856\n",
            "inflow: -0.37202380952380953\n",
            "inflow: -0.40922619047619047\n",
            "inflow: -0.17113095238095238\n",
            "inflow: -2.008928571428571\n",
            "inflow: -0.5059523809523809\n",
            "Commodity: instagram\n",
            "inflow: 2.9166666666666665\n",
            "inflow: -4.0625\n",
            "inflow: 3.273809523809524\n",
            "inflow: -0.46875\n",
            "inflow: -0.03720238095238095\n",
            "inflow: -0.026785714285714284\n",
            "inflow: -1.7857142857142858\n",
            "inflow: -4.0625\n",
            "inflow: -0.9821428571428571\n",
            "Commodity: netflix\n"
          ],
          "name": "stdout"
        }
      ]
    },
    {
      "cell_type": "code",
      "metadata": {
        "colab": {
          "base_uri": "https://localhost:8080/",
          "height": 1000
        },
        "id": "G4wgO4b5rbrV",
        "outputId": "e1278bb8-38a7-4eaa-a6ce-e9cc831e7330"
      },
      "source": [
        "print_graph()\n",
        "print(\"Internal representation: \", graph)\n",
        "draw_graph()\n",
        "\n",
        "print(\"END:\")\n",
        "print(\"Comm\",comm)\n",
        "print(\"allCost\",allCost)\n",
        "print(\"Demand\",demand)\n",
        "max_flow(comm, allCost, demand)\n",
        "\n"
      ],
      "execution_count": 22,
      "outputs": [
        {
          "output_type": "stream",
          "text": [
            "a  ->  d  edge weight:  130.0\n",
            "a  ->  e  edge weight:  112.0\n",
            "b  ->  g  edge weight:  46.0\n",
            "c  ->  e  edge weight:  120.0\n",
            "c  ->  f  edge weight:  90.0\n",
            "d  ->  g  edge weight:  140.0\n",
            "f  ->  b  edge weight:  50.0\n",
            "f  ->  laptop  edge weight:  40.0\n",
            "g  ->  mobile  edge weight:  100.0\n",
            "Internal representation:  [[0, 0, 0, 130.0, 112.0, 0, 0, 0, 0], [0, 0, 0, 0, 0, 0, 46.0, 0, 0], [0, 0, 0, 0, 120.0, 90.0, 0, 0, 0], [0, 0, 0, 0, 0, 0, 140.0, 0, 0], [0, 0, 0, 0, 0, 0, 0, 0, 0], [0, 50.0, 0, 0, 0, 0, 0, 0, 40.0], [0, 0, 0, 0, 0, 0, 0, 100.0, 0], [0, 0, 0, 0, 0, 0, 0, 0, 0], [0, 0, 0, 0, 0, 0, 0, 0, 0]]\n"
          ],
          "name": "stdout"
        },
        {
          "output_type": "display_data",
          "data": {
            "image/png": "[encoded data removed]",
            "text/plain": [
              "<Figure size 432x288 with 1 Axes>"
            ]
          },
          "metadata": {
            "tags": []
          }
        },
        {
          "output_type": "stream",
          "text": [
            "END:\n",
            "Comm ['netflix', 'instagram']\n",
            "allCost {('netflix', 'a', 'd'): 1.0, ('netflix', 'd', 'g'): 2.0, ('netflix', 'g', 'mobile'): 3.0, ('netflix', 'c', 'e'): 4.0, ('netflix', 'c', 'f'): 5.0, ('netflix', 'f', 'b'): 6.0, ('netflix', 'b', 'g'): 7.0, ('netflix', 'a', 'e'): 8.0, ('netflix', 'f', 'laptop'): 4.0, ('instagram', 'a', 'd'): 1.0, ('instagram', 'd', 'g'): 2.0, ('instagram', 'g', 'mobile'): 3.0, ('instagram', 'c', 'e'): 4.0, ('instagram', 'c', 'f'): 5.0, ('instagram', 'f', 'b'): 6.0, ('instagram', 'b', 'g'): 7.0, ('instagram', 'a', 'e'): 8.0, ('instagram', 'f', 'laptop'): 4.0}\n",
            "Demand {('netflix', 'a'): 0.6696428571428571, ('netflix', 'b'): -0.2976190476190476, ('netflix', 'c'): 1.7857142857142858, ('netflix', 'd'): -1.7857142857142856, ('netflix', 'e'): -0.37202380952380953, ('netflix', 'f'): -0.40922619047619047, ('netflix', 'g'): -0.17113095238095238, ('netflix', 'mobile'): -2.008928571428571, ('netflix', 'laptop'): -0.5059523809523809, ('instagram', 'a'): 2.9166666666666665, ('instagram', 'b'): -4.0625, ('instagram', 'c'): 3.273809523809524, ('instagram', 'd'): -0.46875, ('instagram', 'e'): -0.03720238095238095, ('instagram', 'f'): -0.026785714285714284, ('instagram', 'g'): -1.7857142857142858, ('instagram', 'mobile'): -4.0625, ('instagram', 'laptop'): -0.9821428571428571}\n",
            "This prints out the nodes in the pair:  [('a', 'd'), ('a', 'e'), ('b', 'g'), ('c', 'e'), ('c', 'f'), ('d', 'g'), ('f', 'b'), ('f', 'laptop'), ('g', 'mobile')]\n",
            "This prints out the capacity of the node pair:  [130.0, 112.0, 46.0, 120.0, 90.0, 140.0, 50.0, 40.0, 100.0]\n",
            "The dictionary after the merge of the pairs of nodes with the capacities:\n",
            "{('a', 'd'): 130.0, ('a', 'e'): 112.0, ('b', 'g'): 46.0, ('c', 'e'): 120.0, ('c', 'f'): 90.0, ('d', 'g'): 140.0, ('f', 'b'): 50.0, ('f', 'laptop'): 40.0, ('g', 'mobile'): 100.0}\n",
            "lsit of nodes with each commodity: [(['netflix', 'instagram'], 'a'), (['netflix', 'instagram'], 'b'), (['netflix', 'instagram'], 'c'), (['netflix', 'instagram'], 'd'), (['netflix', 'instagram'], 'e'), (['netflix', 'instagram'], 'f'), (['netflix', 'instagram'], 'g'), (['netflix', 'instagram'], 'mobile'), (['netflix', 'instagram'], 'laptop')]\n",
            "lsit of actual nodes: ['a', 'b', 'c', 'd', 'e', 'f', 'g', 'mobile', 'laptop']\n",
            "inter ['c', 'd', 'e', 'f', 'g']\n",
            "demand {('netflix', 'a'): 0.6696428571428571, ('netflix', 'b'): -0.2976190476190476, ('netflix', 'c'): 1.7857142857142858, ('netflix', 'd'): -1.7857142857142856, ('netflix', 'e'): -0.37202380952380953, ('netflix', 'f'): -0.40922619047619047, ('netflix', 'g'): -0.17113095238095238, ('netflix', 'mobile'): -2.008928571428571, ('netflix', 'laptop'): -0.5059523809523809, ('instagram', 'a'): 2.9166666666666665, ('instagram', 'b'): -4.0625, ('instagram', 'c'): 3.273809523809524, ('instagram', 'd'): -0.46875, ('instagram', 'e'): -0.03720238095238095, ('instagram', 'f'): -0.026785714285714284, ('instagram', 'g'): -1.7857142857142858, ('instagram', 'mobile'): -4.0625, ('instagram', 'laptop'): -0.9821428571428571}\n",
            "cost {('netflix', 'a', 'd'): 1.0, ('netflix', 'd', 'g'): 2.0, ('netflix', 'g', 'mobile'): 3.0, ('netflix', 'c', 'e'): 4.0, ('netflix', 'c', 'f'): 5.0, ('netflix', 'f', 'b'): 6.0, ('netflix', 'b', 'g'): 7.0, ('netflix', 'a', 'e'): 8.0, ('netflix', 'f', 'laptop'): 4.0, ('instagram', 'a', 'd'): 1.0, ('instagram', 'd', 'g'): 2.0, ('instagram', 'g', 'mobile'): 3.0, ('instagram', 'c', 'e'): 4.0, ('instagram', 'c', 'f'): 5.0, ('instagram', 'f', 'b'): 6.0, ('instagram', 'b', 'g'): 7.0, ('instagram', 'a', 'e'): 8.0, ('instagram', 'f', 'laptop'): 4.0}\n",
            "Gurobi Optimizer version 9.1.1 build v9.1.1rc0 (linux64)\n",
            "Thread count: 1 physical cores, 2 logical processors, using up to 2 threads\n",
            "Optimize a model with 19 rows, 18 columns and 42 nonzeros\n",
            "Model fingerprint: 0x2b711d65\n",
            "Coefficient statistics:\n",
            "  Matrix range     [1e+00, 1e+00]\n",
            "  Objective range  [1e+00, 8e+00]\n",
            "  Bounds range     [0e+00, 0e+00]\n",
            "  RHS range        [3e-02, 1e+02]\n",
            "Presolve removed 14 rows and 12 columns\n",
            "Presolve time: 0.03s\n",
            "Presolved: 5 rows, 6 columns, 12 nonzeros\n",
            "\n",
            "Iteration    Objective       Primal Inf.    Dual Inf.      Time\n",
            "       0    4.4000000e+01   2.446057e-01   0.000000e+00      0s\n",
            "       2    4.9870536e+01   0.000000e+00   0.000000e+00      0s\n",
            "\n",
            "Solved in 2 iterations and 0.05 seconds\n",
            "Optimal objective  4.987053571e+01\n",
            "Minimize\n",
            "   <gurobi.LinExpr: flow[netflix,a,d] + 8.0 flow[netflix,a,e] + 7.0 flow[netflix,b,g] + 4.0 flow[netflix,c,e] + 5.0 flow[netflix,c,f] + 2.0 flow[netflix,d,g] + 6.0 flow[netflix,f,b] + 4.0 flow[netflix,f,laptop] + 3.0 flow[netflix,g,mobile] + flow[instagram,a,d] + 8.0 flow[instagram,a,e] + 7.0 flow[instagram,b,g] + 4.0 flow[instagram,c,e] + 5.0 flow[instagram,c,f] + 2.0 flow[instagram,d,g] + 6.0 flow[instagram,f,b] + 4.0 flow[instagram,f,laptop] + 3.0 flow[instagram,g,mobile]>\n",
            "Subject To\n",
            "   cap[a, d] : <gurobi.LinExpr: flow[netflix,a,d] + flow[instagram,a,d]> <= 130.0\n",
            "   cap[a, e] : <gurobi.LinExpr: flow[netflix,a,e] + flow[instagram,a,e]> <= 112.0\n",
            "   cap[b, g] : <gurobi.LinExpr: flow[netflix,b,g] + flow[instagram,b,g]> <= 46.0\n",
            "   cap[c, e] : <gurobi.LinExpr: flow[netflix,c,e] + flow[instagram,c,e]> <= 120.0\n",
            "   cap[c, f] : <gurobi.LinExpr: flow[netflix,c,f] + flow[instagram,c,f]> <= 90.0\n",
            "   cap[d, g] : <gurobi.LinExpr: flow[netflix,d,g] + flow[instagram,d,g]> <= 140.0\n",
            "   cap[f, b] : <gurobi.LinExpr: flow[netflix,f,b] + flow[instagram,f,b]> <= 50.0\n",
            "   cap[f, laptop] : <gurobi.LinExpr: flow[netflix,f,laptop] + flow[instagram,f,laptop]> <= 40.0\n",
            "   cap[g, mobile] : <gurobi.LinExpr: flow[netflix,g,mobile] + flow[instagram,g,mobile]> <= 100.0\n",
            "   node[netflix,c] : <gurobi.LinExpr: -1.0 flow[netflix,c,e] + -1.0 flow[netflix,c,f]> = -1.7857142857142858\n",
            "   node[netflix,d] : <gurobi.LinExpr: flow[netflix,a,d] + -1.0 flow[netflix,d,g]> = 1.7857142857142856\n",
            "   node[netflix,e] : <gurobi.LinExpr: flow[netflix,a,e] + flow[netflix,c,e]> = 0.37202380952380953\n",
            "   node[netflix,f] : <gurobi.LinExpr: flow[netflix,c,f] + -1.0 flow[netflix,f,b] + -1.0 flow[netflix,f,laptop]> = 0.40922619047619047\n",
            "   node[netflix,g] : <gurobi.LinExpr: flow[netflix,b,g] + flow[netflix,d,g] + -1.0 flow[netflix,g,mobile]> = 0.17113095238095238\n",
            "   node[instagram,c] : <gurobi.LinExpr: -1.0 flow[instagram,c,e] + -1.0 flow[instagram,c,f]> = -3.273809523809524\n",
            "   node[instagram,d] : <gurobi.LinExpr: flow[instagram,a,d] + -1.0 flow[instagram,d,g]> = 0.46875\n",
            "   node[instagram,e] : <gurobi.LinExpr: flow[instagram,a,e] + flow[instagram,c,e]> = 0.03720238095238095\n",
            "   node[instagram,f] : <gurobi.LinExpr: flow[instagram,c,f] + -1.0 flow[instagram,f,b] + -1.0 flow[instagram,f,laptop]> = 0.026785714285714284\n",
            "   node[instagram,g] : <gurobi.LinExpr: flow[instagram,b,g] + flow[instagram,d,g] + -1.0 flow[instagram,g,mobile]> = 1.7857142857142858\n",
            "None\n",
            "if model fesible it will print a 2 . 2\n",
            "Obj: 49.8705\n",
            "flow[netflix,a,d] 1.95685\n",
            "flow[netflix,a,e] 0\n",
            "flow[netflix,b,g] 0\n",
            "flow[netflix,c,e] 0.372024\n",
            "flow[netflix,c,f] 1.41369\n",
            "flow[netflix,d,g] 0.171131\n",
            "flow[netflix,f,b] 0\n",
            "flow[netflix,f,laptop] 1.00446\n",
            "flow[netflix,g,mobile] 0\n",
            "flow[instagram,a,d] 2.25446\n",
            "flow[instagram,a,e] 0\n",
            "flow[instagram,b,g] 0\n",
            "flow[instagram,c,e] 0.0372024\n",
            "flow[instagram,c,f] 3.23661\n",
            "flow[instagram,d,g] 1.78571\n",
            "flow[instagram,f,b] 0\n",
            "flow[instagram,f,laptop] 3.20982\n",
            "flow[instagram,g,mobile] 0\n"
          ],
          "name": "stdout"
        }
      ]
    }
  ]
}